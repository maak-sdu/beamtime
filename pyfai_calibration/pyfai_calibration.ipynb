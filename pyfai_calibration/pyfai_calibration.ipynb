{
 "cells": [
  {
   "cell_type": "markdown",
   "metadata": {},
   "source": [
    "# pyFAI calibration\n",
    "The cell below will call the `pyfai-calib2` gui (graphical user interface),  \n",
    "which can be used for calibration of experimental geometry for a powder x-ray  \n",
    "diffraction (pxrd) experiment."
   ]
  },
  {
   "cell_type": "code",
   "execution_count": null,
   "metadata": {},
   "outputs": [],
   "source": [
    "! pyfai-calib2"
   ]
  }
 ],
 "metadata": {
  "kernelspec": {
   "display_name": "beamtime_env",
   "language": "python",
   "name": "python3"
  },
  "language_info": {
   "codemirror_mode": {
    "name": "ipython",
    "version": 3
   },
   "file_extension": ".py",
   "mimetype": "text/x-python",
   "name": "python",
   "nbconvert_exporter": "python",
   "pygments_lexer": "ipython3",
   "version": "3.10.13"
  }
 },
 "nbformat": 4,
 "nbformat_minor": 2
}
