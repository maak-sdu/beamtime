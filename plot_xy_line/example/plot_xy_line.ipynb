{
 "cells": [
  {
   "cell_type": "markdown",
   "metadata": {},
   "source": [
    "# Plot xy-line\n",
    "This iPython notebook (`.ipynb` file) is made for batch plotting xy-like data.  \n",
    "\n",
    "For each data file, a line plot will be made. The independent variable, $x$ is  \n",
    "assumed to be in the first column and the dependent variable, $y$, is assumed to  \n",
    "be in the second column.\n",
    "\n",
    "By default, plots are only saved to `.png` files.\n",
    "\n",
    "For plot settings, please see the `D_PLOT_SETTINGS` dictionary below."
   ]
  },
  {
   "cell_type": "markdown",
   "metadata": {},
   "source": [
    "Imports."
   ]
  },
  {
   "cell_type": "code",
   "execution_count": null,
   "metadata": {},
   "outputs": [],
   "source": [
    "import sys\n",
    "from pathlib import Path\n",
    "import numpy as np\n",
    "import matplotlib.pyplot as plt\n",
    "from diffpy.utils.parsers.loaddata import loadData"
   ]
  },
  {
   "cell_type": "markdown",
   "metadata": {},
   "source": [
    "Making sure that the `data` folder exists in the current working directory.  \n",
    "If so, making sure that files are present in the `data` folder."
   ]
  },
  {
   "cell_type": "code",
   "execution_count": null,
   "metadata": {},
   "outputs": [],
   "source": [
    "data_path = Path.cwd() / \"data\"\n",
    "if not data_path.exists():\n",
    "    data_path.mkdir()\n",
    "    sys.exit(f\"\\n{80*'-'}\\nA folder called '{data_path.name}' has been \"\n",
    "             f\"created.\\nPlease place your data files there and rerun the \"\n",
    "             f\"cel.\\n{80*'-'}\")\n",
    "data_files = list(data_path.glob(\"*.*\"))\n",
    "if len(data_files) == 0:\n",
    "    sys.exit(f\"\\n{80*'-'}\\nNo files were found in the '{data_path.name}' \"\n",
    "             f\"folder.\\nPlease place your data file(s) there and rerun the \"\n",
    "             f\"cell.\\n{80*'-'}\")"
   ]
  },
  {
   "cell_type": "markdown",
   "metadata": {},
   "source": [
    "Dictionary with plot settings."
   ]
  },
  {
   "cell_type": "code",
   "execution_count": null,
   "metadata": {},
   "outputs": [],
   "source": [
    "D_PLOT_SETTINGS = dict(dpi=300,\n",
    "                       figsize=(12, 4),\n",
    "                       c=\"#1f77b4\",\n",
    "                       lw=2,\n",
    "                       fontsize=dict(labels=20, ticklabels=14),\n",
    "                       xlabel=r\"$x$\",\n",
    "                       ylabel=r\"$y$\",\n",
    "                       )"
   ]
  },
  {
   "cell_type": "markdown",
   "metadata": {},
   "source": [
    "Plot function."
   ]
  },
  {
   "cell_type": "code",
   "execution_count": null,
   "metadata": {},
   "outputs": [],
   "source": [
    "def plot(x, y, d, name, plot_paths):\n",
    "    fig, ax = plt.subplots(dpi=d[\"dpi\"], figsize=d[\"figsize\"])\n",
    "    ax.plot(x, y, c=d[\"c\"], lw=d[\"lw\"])\n",
    "    ax.set_xlabel(d[\"xlabel\"], fontsize=d[\"fontsize\"][\"labels\"])\n",
    "    ax.set_ylabel(d[\"ylabel\"], fontsize=d[\"fontsize\"][\"labels\"])\n",
    "    ax.set_xlim(np.amin(x), np.amax(x))\n",
    "    ax.tick_params(axis=\"x\", \n",
    "                   which=\"both\",\n",
    "                   bottom=True, \n",
    "                   top=True, \n",
    "                   labelbottom=True, \n",
    "                   labeltop=False,\n",
    "                   direction=\"in\",\n",
    "                   labelsize=d[\"fontsize\"][\"ticklabels\"],\n",
    "                   )\n",
    "    ax.tick_params(axis=\"y\",\n",
    "                   which=\"both\",\n",
    "                   left=True,\n",
    "                   right=True,\n",
    "                   labelleft=True,\n",
    "                   labelright=False,\n",
    "                   direction=\"in\",\n",
    "                   labelsize=d[\"fontsize\"][\"ticklabels\"],\n",
    "                   )\n",
    "    ax.minorticks_on()\n",
    "    ax.ticklabel_format(axis=\"y\", style=\"sci\", scilimits=(0, 0))\n",
    "    for p in plot_paths:\n",
    "        plt.savefig(p / f\"{name}.{p.name}\", bbox_inches=\"tight\")\n",
    "    plt.close()\n",
    "    \n",
    "    return None"
   ]
  },
  {
   "cell_type": "markdown",
   "metadata": {},
   "source": [
    "Plot folders."
   ]
  },
  {
   "cell_type": "code",
   "execution_count": null,
   "metadata": {},
   "outputs": [],
   "source": [
    "plot_folders = [\"png\", \n",
    "                # \"pdf\", \n",
    "                # \"svg\",\n",
    "                ]\n",
    "plot_paths = [Path.cwd() / folder for folder in plot_folders]\n",
    "for p in plot_paths:\n",
    "    if not p.exists():\n",
    "        p.mkdir()"
   ]
  },
  {
   "cell_type": "markdown",
   "metadata": {},
   "source": [
    "Plotting data."
   ]
  },
  {
   "cell_type": "code",
   "execution_count": null,
   "metadata": {},
   "outputs": [],
   "source": [
    "print(f\"{80*'-'}\\nPlotting data...\")\n",
    "for f in data_files:\n",
    "    print(f\"\\t{f.name}\")\n",
    "    data = loadData(f)\n",
    "    x, y = data[:, 0], data[:, 1]\n",
    "    plot(x, y, D_PLOT_SETTINGS, f.stem, plot_paths)\n",
    "print(f\"Done. Please see the {plot_folders} folder(s).\\n{80*'-'}\")"
   ]
  }
 ],
 "metadata": {
  "kernelspec": {
   "display_name": "py312",
   "language": "python",
   "name": "python3"
  },
  "language_info": {
   "codemirror_mode": {
    "name": "ipython",
    "version": 3
   },
   "file_extension": ".py",
   "mimetype": "text/x-python",
   "name": "python",
   "nbconvert_exporter": "python",
   "pygments_lexer": "ipython3",
   "version": "3.12.1"
  }
 },
 "nbformat": 4,
 "nbformat_minor": 2
}
