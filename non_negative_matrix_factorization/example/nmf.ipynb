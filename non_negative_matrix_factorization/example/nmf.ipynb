{
 "cells": [
  {
   "cell_type": "markdown",
   "metadata": {},
   "source": [
    "Imports."
   ]
  },
  {
   "cell_type": "code",
   "execution_count": null,
   "metadata": {},
   "outputs": [],
   "source": [
    "import sys\n",
    "from pathlib import Path\n",
    "import numpy as np\n",
    "import matplotlib.pyplot as plt\n",
    "from sklearn.decomposition import NMF\n",
    "from diffpy.utils.parsers.loaddata import loadData"
   ]
  },
  {
   "cell_type": "markdown",
   "metadata": {},
   "source": [
    "Ensuring that data files are in place."
   ]
  },
  {
   "cell_type": "code",
   "execution_count": null,
   "metadata": {},
   "outputs": [],
   "source": [
    "data_path = Path.cwd() / \"data\"\n",
    "if not data_path.exists():\n",
    "    data_path.mkdir()\n",
    "    sys.exit(f\"\\n{80*'-'}\\nA folder called '{data_path.name}' has been created.\"\n",
    "             f\"\\nPlease place your data files there and rerun the cell.\"\n",
    "             f\"\\n{80*'-'}\")\n",
    "data_files = list(data_path.glob(\"*.*\"))\n",
    "if len(data_files) == 0:\n",
    "    sys.exit(f\"\\n{80*'-'}\\nNo files were found in the '{data_path.name}' \"\n",
    "             f\"folder.\\nPlease place your data files there and rerun the cell.\"\n",
    "             f\"\\n{80*'-'}\")\n",
    "s = f\"The following files were found in the '{data_path.name}' folder:\\n\"\n",
    "for i, e in enumerate(data_files):\n",
    "    s += f\"{i}\\t{e.name}\\n\"\n",
    "print(f\"\\n{80*'-'}\\n{s}{80*'-'}\")"
   ]
  },
  {
   "cell_type": "markdown",
   "metadata": {},
   "source": [
    "Loading data from files."
   ]
  },
  {
   "cell_type": "code",
   "execution_count": null,
   "metadata": {},
   "outputs": [],
   "source": [
    "d = {}\n",
    "print(f\"\\n{80*'-'}\\nLoading data...\")\n",
    "for i, e in enumerate(data_files):\n",
    "    print(f\"\\t{i}\\t{e.name}\")\n",
    "    data = loadData(e)\n",
    "    x, y = data[:, 0], data[:, 1]\n",
    "    d[i] = dict(path=e, x=x, y=y)\n",
    "    if i == 0:\n",
    "        yarray = y\n",
    "    else:\n",
    "        yarray = np.column_stack((yarray, y))\n",
    "print(f\"Done loading data.\\n{80*'-'}\\n\"\n",
    "      f\"xmin = {np.amin(x)}, xmax = {np.amax(x)}\\n{80*'-'}\\n\"\n",
    "      f\"shape of stacked y-array: {yarray.shape}\\n{80*'-'}\")"
   ]
  },
  {
   "cell_type": "markdown",
   "metadata": {},
   "source": [
    "Getting the number of each frames, assuming it to be prepended to the filenames."
   ]
  },
  {
   "cell_type": "code",
   "execution_count": null,
   "metadata": {},
   "outputs": [],
   "source": [
    "frames = np.array([int(f.stem.split(\"_\")[0]) for f in data_files])\n",
    "print(frames)"
   ]
  },
  {
   "cell_type": "markdown",
   "metadata": {},
   "source": [
    "Function to get index of value in array."
   ]
  },
  {
   "cell_type": "code",
   "execution_count": null,
   "metadata": {},
   "outputs": [],
   "source": [
    "def get_idx(array, value):\n",
    "    for i, e in enumerate(array):\n",
    "        if e >= value:\n",
    "            break\n",
    "    \n",
    "    return i"
   ]
  },
  {
   "cell_type": "markdown",
   "metadata": {},
   "source": [
    "State minimum and maximum $x$-value to conduct analysis for."
   ]
  },
  {
   "cell_type": "code",
   "execution_count": null,
   "metadata": {},
   "outputs": [],
   "source": [
    "xmin, xmax = 1, 30"
   ]
  },
  {
   "cell_type": "markdown",
   "metadata": {},
   "source": [
    "Shaping $y$-array to conduct pca for."
   ]
  },
  {
   "cell_type": "code",
   "execution_count": null,
   "metadata": {},
   "outputs": [],
   "source": [
    "idx_min, idx_max = get_idx(x, xmin), get_idx(x, xmax)\n",
    "X = yarray[idx_min:idx_max, :].T\n",
    "x = x[idx_min:idx_max]\n",
    "print(f\"\\n{80*'-'}\\nshape of X (shaped yarray): {X.shape}\\n{80*'-'}\")"
   ]
  },
  {
   "cell_type": "markdown",
   "metadata": {},
   "source": [
    "Plot function to plot reconstruction error."
   ]
  },
  {
   "cell_type": "code",
   "execution_count": null,
   "metadata": {},
   "outputs": [],
   "source": [
    "def plot_re(re, plot_paths):\n",
    "    x = np.arange(1, len(re) + 1)\n",
    "    xmin, xmax = np.amin(x), np.amax(x)\n",
    "    xrange = xmax - xmin\n",
    "    colors = plt.rcParams[\"axes.prop_cycle\"].by_key()[\"color\"]\n",
    "    fig, ax = plt.subplots(figsize=(12, 4))\n",
    "    ax.plot(x, re, \"-o\", c=colors[0])\n",
    "    ax.set_xlabel(r\"$n$\", fontsize=20)\n",
    "    ax.set_ylabel(r\"$re$\", fontsize=20)\n",
    "    ax.tick_params(axis=\"both\", which=\"both\", labelsize=14)\n",
    "    ax.set_xlim(xmin - 0.01 * xrange, xmax + 0.01 * xrange)\n",
    "    ax.minorticks_on()\n",
    "    for p in plot_paths:\n",
    "        plt.savefig(p / f\"re.{p.name}\", bbox_inches=\"tight\", dpi=300)\n",
    "    plt.show()\n",
    "\n",
    "    return None"
   ]
  },
  {
   "cell_type": "markdown",
   "metadata": {},
   "source": [
    "Function to conduct nmf analysis for range of components to inspect the  \n",
    "reconstruction error."
   ]
  },
  {
   "cell_type": "code",
   "execution_count": null,
   "metadata": {},
   "outputs": [],
   "source": [
    "def nmf_re(X, n_range):\n",
    "    re = []\n",
    "    offset = np.amin(X)\n",
    "    if offset < 0:\n",
    "        X = X - offset\n",
    "    print(f\"\\n{80*'-'}\\nConducting nmf analysis for range of components...\")\n",
    "    for i in n_range:\n",
    "        print(f\"\\t{i}\")\n",
    "        nmf = NMF(n_components=i, init=\"nndsvdar\", max_iter=10**3)\n",
    "        nmf.fit(X.T)\n",
    "        re.append(nmf.reconstruction_err_)\n",
    "    print(f\"Done.\\n{80*'-'}\")\n",
    "    \n",
    "    return re"
   ]
  },
  {
   "cell_type": "markdown",
   "metadata": {},
   "source": [
    "Conducting nmf analysis for range of components."
   ]
  },
  {
   "cell_type": "code",
   "execution_count": null,
   "metadata": {},
   "outputs": [],
   "source": [
    "re = nmf_re(X, np.arange(1, 11))"
   ]
  },
  {
   "cell_type": "markdown",
   "metadata": {},
   "source": [
    "Plotting reconstruction error as a function of the number of components."
   ]
  },
  {
   "cell_type": "code",
   "execution_count": null,
   "metadata": {},
   "outputs": [],
   "source": [
    "plot_folders = [\"png\"]\n",
    "plot_paths = [Path.cwd() / folder for folder in plot_folders]\n",
    "for p in plot_paths:\n",
    "    if not p.exists():\n",
    "        p.mkdir()\n",
    "print(f\"\\n{80*'-'}\\nExplained variance ratio as a function of number of \"\n",
    "      f\"components:\")\n",
    "plot_re(re, plot_paths)\n",
    "print(f\"{80*'-'}\")"
   ]
  },
  {
   "cell_type": "markdown",
   "metadata": {},
   "source": [
    "Function to conduct nmf analysis."
   ]
  },
  {
   "cell_type": "code",
   "execution_count": null,
   "metadata": {},
   "outputs": [],
   "source": [
    "def nmf(X, n_components):\n",
    "    offset = np.amin(X)\n",
    "    if offset < 0:\n",
    "        X = X - offset\n",
    "    nmf = NMF(n_components=n_components,\n",
    "              init=\"nndsvdar\",\n",
    "              max_iter=10**3,\n",
    "              )\n",
    "    nmf.fit(X)\n",
    "    components = nmf.components_\n",
    "    weights = nmf.transform(X)\n",
    "    weights_sum = weights.sum(1)\n",
    "    weights_norm = np.array([weights[i, :] / weights_sum[i]\n",
    "                                for i in range(len(weights_sum))])\n",
    "    return offset, components, weights, weights_norm"
   ]
  },
  {
   "cell_type": "markdown",
   "metadata": {},
   "source": [
    "Plot function to plot nmf weights as a function of frame number."
   ]
  },
  {
   "cell_type": "code",
   "execution_count": null,
   "metadata": {},
   "outputs": [],
   "source": [
    "def plot_weights(frames, weights, name, plot_paths):\n",
    "    xmin, xmax = np.amin(frames), np.amax(frames)\n",
    "    xrange = xmax - xmin\n",
    "    xlim_factor = 0.015\n",
    "    fig, ax = plt.subplots(figsize=(12, 4))\n",
    "    for i in range(weights.shape[1]):\n",
    "        ax.plot(frames, weights[:, i], \"-o\", label=i+1)\n",
    "    ax.set_xlim(xmin - xlim_factor * xrange, xmax + xlim_factor * xrange)\n",
    "    ax.set_xlabel(\"frame\", fontsize=20)\n",
    "    ax.set_ylabel(\"$w$\", fontsize=20)\n",
    "    ax.tick_params(axis=\"both\", labelsize=14)\n",
    "    ax.minorticks_on()\n",
    "    ax.legend(loc=\"upper center\", \n",
    "              ncols=weights.shape[1],\n",
    "              framealpha=0,\n",
    "              borderaxespad=-2,\n",
    "              )\n",
    "    for p in plot_paths:\n",
    "        plt.savefig(p / f\"{name}.{p.name}\", bbox_inches=\"tight\", dpi=600)\n",
    "    plt.show()\n",
    "\n",
    "    return None"
   ]
  },
  {
   "cell_type": "markdown",
   "metadata": {},
   "source": [
    "Plot function to plot nmf components."
   ]
  },
  {
   "cell_type": "code",
   "execution_count": null,
   "metadata": {},
   "outputs": [],
   "source": [
    "def plot_components(x, components, offset, name, plot_paths):\n",
    "    xmin, xmax = np.amin(x), np.amax(x)\n",
    "    xrange = xmax - xmin\n",
    "    xlim_factor = 0.015\n",
    "    colors = plt.rcParams[\"axes.prop_cycle\"].by_key()[\"color\"]\n",
    "    fig, axs = plt.subplots(figsize=(12, 4),\n",
    "                            nrows=components.shape[0],\n",
    "                            sharex=True,\n",
    "                            sharey=True,\n",
    "                            gridspec_kw=dict(hspace=0),\n",
    "                            )\n",
    "    for i in range(components.shape[0]):\n",
    "        if offset < 0:\n",
    "            y = components[i, :] - components[i, -500:-1].mean()\n",
    "        else:\n",
    "            y = components[i, :]\n",
    "        axs[i].plot(x, y, c=colors[i], label=i+1)\n",
    "        axs[i].set_xlim(xmin, xmax)\n",
    "        axs[i].legend(loc=\"upper right\", framealpha=0, fontsize=14)\n",
    "        axs[i].minorticks_on()\n",
    "    axs[-1].set_xlabel(\"$r\\;[\\mathrm{\\AA}]$\", fontsize=20)\n",
    "    fig.supylabel(\"$G\\;[\\mathrm{\\AA}^{-2}]$\", fontsize=20, x=0.04)\n",
    "    for p in plot_paths:\n",
    "        plt.savefig(p / f\"{name}.{p.name}\", bbox_inches=\"tight\", dpi=600)\n",
    "    plt.show()\n",
    "\n",
    "    return None"
   ]
  },
  {
   "cell_type": "markdown",
   "metadata": {},
   "source": [
    "Range of number of components to conduct nmf analysis for."
   ]
  },
  {
   "cell_type": "code",
   "execution_count": null,
   "metadata": {},
   "outputs": [],
   "source": [
    "range_components = range(2, 6)"
   ]
  },
  {
   "cell_type": "markdown",
   "metadata": {},
   "source": [
    "Conducting nmf analyses for range of number of components and plotting."
   ]
  },
  {
   "cell_type": "code",
   "execution_count": null,
   "metadata": {},
   "outputs": [],
   "source": [
    "print(f\"{80*'-'}\\nConducting nmf analysis and plotting for range of \"\n",
    "      f\"components...\")\n",
    "for n in range_components:\n",
    "    print(f\"\\n{80*'-'}\\n\\t{n}\")\n",
    "    offset, components, weights, weights_norm = nmf(X, n)\n",
    "    plot_weights(frames, weights_norm, f\"nmf_weights_n={n}\", plot_paths)\n",
    "    plot_components(x, components, offset, f\"nmf_components_n={n}\", plot_paths)"
   ]
  }
 ],
 "metadata": {
  "kernelspec": {
   "display_name": "beamtime_env",
   "language": "python",
   "name": "python3"
  },
  "language_info": {
   "codemirror_mode": {
    "name": "ipython",
    "version": 3
   },
   "file_extension": ".py",
   "mimetype": "text/x-python",
   "name": "python",
   "nbconvert_exporter": "python",
   "pygments_lexer": "ipython3",
   "version": "3.11.8"
  }
 },
 "nbformat": 4,
 "nbformat_minor": 2
}
