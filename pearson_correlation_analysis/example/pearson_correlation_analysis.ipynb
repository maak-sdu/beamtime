{
 "cells": [
  {
   "cell_type": "markdown",
   "metadata": {},
   "source": [
    "# Pearson correlation analysis\n",
    "This iPython notebook (`.ipynb` file) can be used to conduct Pearson correlation  \n",
    "analysis for a series of data files.\n",
    "\n",
    "The code expects data files, where the variable of interest is present in the  \n",
    "second column, e.g., xy- or xye-formats.\n",
    "\n",
    "The correlation analysis is done using the `numpy.corrcoef` function.  \n",
    "For more info on Pearson correlation please refer to:\n",
    "- https://numpy.org/doc/stable/reference/generated/numpy.corrcoef.html\n",
    "- https://docs.scipy.org/doc/scipy/reference/generated/scipy.stats.pearsonr.html"
   ]
  },
  {
   "cell_type": "markdown",
   "metadata": {},
   "source": [
    "Imports."
   ]
  },
  {
   "cell_type": "code",
   "execution_count": null,
   "metadata": {},
   "outputs": [],
   "source": [
    "import sys\n",
    "from pathlib import Path\n",
    "import numpy as np\n",
    "import matplotlib.pyplot as plt\n",
    "from diffpy.utils.parsers.loaddata import loadData"
   ]
  },
  {
   "cell_type": "markdown",
   "metadata": {},
   "source": [
    "Collecting data files."
   ]
  },
  {
   "cell_type": "code",
   "execution_count": null,
   "metadata": {},
   "outputs": [],
   "source": [
    "data_path = Path.cwd() / \"data\"\n",
    "if not data_path.exists():\n",
    "    print(\"TEST\")\n",
    "    data_path.mkdir()\n",
    "    sys.exit(f\"\\n{80*'-'}\\nA folder called '{data_path.name}' has been created.\"\n",
    "             f\"\\nPlease put your data files there and rerun the cell.\"\n",
    "             f\"\\n{80*'-'}\")\n",
    "data_files = list(data_path.glob(\"*.*\"))\n",
    "if len(data_files) == 0:\n",
    "    sys.exit(f\"\\n{80*'-'}\\nNo files were found in the '{data_path.name}' \"\n",
    "             f\"folder.\\nPlease place your data files there and rerun the cell.\"\n",
    "             f\"\\n{80*'-'}\")"
   ]
  },
  {
   "cell_type": "markdown",
   "metadata": {},
   "source": [
    "Function for plotting Pearson correlation matrix."
   ]
  },
  {
   "cell_type": "code",
   "execution_count": null,
   "metadata": {},
   "outputs": [],
   "source": [
    "def plot(corr, name, plot_paths):\n",
    "    fontsize_labels, fontsize_ticklabels = 20, 14\n",
    "    fig, ax = plt.subplots(figsize=(8, 6))\n",
    "    im = ax.imshow(corr, aspect=\"equal\", cmap=\"YlOrRd\")\n",
    "    ax.set_xlabel(f\"index\", fontsize=fontsize_labels)\n",
    "    ax.set_ylabel(f\"index\", fontsize=fontsize_labels)\n",
    "    ax.xaxis.set_label_position(\"top\")\n",
    "    ax.tick_params(axis=\"x\",\n",
    "                   which=\"both\",\n",
    "                   bottom=True,\n",
    "                   top=True,\n",
    "                   labelbottom=False,\n",
    "                   labeltop=True,\n",
    "                   direction=\"inout\",\n",
    "                   labelsize=fontsize_ticklabels,\n",
    "                   )\n",
    "    ax.tick_params(axis=\"y\",\n",
    "                   which=\"both\",\n",
    "                   left=True,\n",
    "                   right=True,\n",
    "                   labelleft=True,\n",
    "                   labelright=False,\n",
    "                   direction=\"inout\",\n",
    "                   labelsize=fontsize_ticklabels,\n",
    "                   )\n",
    "    ax.minorticks_on()\n",
    "    cb = plt.colorbar(im)\n",
    "    cb.ax.tick_params(direction=\"inout\", labelsize=fontsize_ticklabels)\n",
    "    cb.set_label(r\"$R_{\\mathrm{Pearson}}$\", fontsize=fontsize_labels)\n",
    "    for p in plot_paths:\n",
    "        print(f\"\\t\\t{p.name}\")\n",
    "        plt.savefig(p / f\"{name}.{p.name}\", bbox_inches=\"tight\", dpi=300)\n",
    "    plt.show()\n",
    "\n",
    "    return None"
   ]
  },
  {
   "cell_type": "markdown",
   "metadata": {},
   "source": [
    "Plot folders."
   ]
  },
  {
   "cell_type": "code",
   "execution_count": null,
   "metadata": {},
   "outputs": [],
   "source": [
    "plot_folders = [\"png\",\n",
    "                # \"pdf\",\n",
    "                # \"svg\",\n",
    "                ]\n",
    "plot_paths = [Path.cwd() / folder for folder in plot_folders]\n",
    "for p in plot_paths:\n",
    "    if not p.exists():\n",
    "        p.mkdir()"
   ]
  },
  {
   "cell_type": "markdown",
   "metadata": {},
   "source": [
    "Loading data, conducting Pearson correlation analysis, and plotting."
   ]
  },
  {
   "cell_type": "code",
   "execution_count": null,
   "metadata": {},
   "outputs": [],
   "source": [
    "print(f\"{80*'-'}\\nLoading data...\")\n",
    "array = []\n",
    "for i, f in enumerate(data_files):\n",
    "    print(f\"\\t{i}\\t{f.name}\")\n",
    "    data = loadData(f)\n",
    "    x, y = data[:, 0], data[:, 1]\n",
    "    array.append(y)\n",
    "print(f\"Done loading data. Conducting Pearson correlation analysis...\")\n",
    "corr = np.corrcoef(np.array(array))\n",
    "print(f\"Plotting correlation matrix...\")\n",
    "plot(corr, \"pearson_correlation_matrix\", plot_paths)\n",
    "print(f\"Done. Please see the {plot_folders} folder(s).\\n{80*'-'}\")"
   ]
  }
 ],
 "metadata": {
  "kernelspec": {
   "display_name": "beamtime_env",
   "language": "python",
   "name": "python3"
  },
  "language_info": {
   "codemirror_mode": {
    "name": "ipython",
    "version": 3
   },
   "file_extension": ".py",
   "mimetype": "text/x-python",
   "name": "python",
   "nbconvert_exporter": "python",
   "pygments_lexer": "ipython3",
   "version": "3.10.13"
  }
 },
 "nbformat": 4,
 "nbformat_minor": 2
}
