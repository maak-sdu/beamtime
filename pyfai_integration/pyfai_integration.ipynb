{
 "cells": [
  {
   "cell_type": "markdown",
   "metadata": {},
   "source": [
    "# pyFAI integration\n",
    "The cell below will call the `pyfai-integrate` gui (graphical user interface)  \n",
    "for azimuthal integration of powder x-ray diffraction (pxrd) data.\n",
    "\n",
    "To be able to carry out the azimuthal integration, a calibration of the  \n",
    "experimental geometry is needed. This can be obtained using the `pyfai-calib2`  \n",
    "gui. Please refer to the `pyfai_calibration` folder of the `beamtime`  \n",
    "repository."
   ]
  },
  {
   "cell_type": "code",
   "execution_count": null,
   "metadata": {},
   "outputs": [],
   "source": [
    "! pyfai-integrate"
   ]
  }
 ],
 "metadata": {
  "kernelspec": {
   "display_name": "beamtime_env",
   "language": "python",
   "name": "python3"
  },
  "language_info": {
   "codemirror_mode": {
    "name": "ipython",
    "version": 3
   },
   "file_extension": ".py",
   "mimetype": "text/x-python",
   "name": "python",
   "nbconvert_exporter": "python",
   "pygments_lexer": "ipython3",
   "version": "3.10.13"
  }
 },
 "nbformat": 4,
 "nbformat_minor": 2
}
