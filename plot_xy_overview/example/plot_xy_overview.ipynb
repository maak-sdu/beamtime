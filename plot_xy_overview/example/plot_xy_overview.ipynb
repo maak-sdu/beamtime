{
 "cells": [
  {
   "cell_type": "markdown",
   "metadata": {},
   "source": [
    "# Plot xy-overview\n",
    "This notebook will make an overview plot of xy-like data.  \n",
    "The independent variable $x$ is assumed to be in the first column and the  \n",
    "dependent variable $y$ is expected to be in the second column.\n",
    "\n",
    "The matplotlib gui will be used to display the plot in an interactive way, using  \n",
    "the `%matplotlib qt` magic command (using the `qt` backend for the gui)."
   ]
  },
  {
   "cell_type": "markdown",
   "metadata": {},
   "source": [
    "Imports."
   ]
  },
  {
   "cell_type": "code",
   "execution_count": null,
   "metadata": {},
   "outputs": [],
   "source": [
    "import sys\n",
    "from pathlib import Path\n",
    "import numpy as np\n",
    "import matplotlib.pyplot as plt\n",
    "from diffpy.utils.parsers.loaddata import loadData"
   ]
  },
  {
   "cell_type": "markdown",
   "metadata": {},
   "source": [
    "Collecting data files."
   ]
  },
  {
   "cell_type": "code",
   "execution_count": null,
   "metadata": {},
   "outputs": [],
   "source": [
    "data_path = Path.cwd() / \"data\"\n",
    "if not data_path.exists():\n",
    "    data_path.mkdir()\n",
    "    sys.exit(f\"\\n{80*'-'}\\nA folder called '{data_path.name}' has been created.\"\n",
    "             f\"\\nPlease put your data files there and rerun the cell.\"\n",
    "             f\"\\n{80*'-'}\")\n",
    "data_files = list(data_path.glob(\"*.*\"))\n",
    "if len(data_files) == 0:\n",
    "    sys.exit(f\"\\n{80*'-'}\\nNo files were found in the '{data_path.name}' \"\n",
    "             f\"folder.\\nPlease put your data files there and rerun the cell.\"\n",
    "             f\"\\n{80*'-'}\")"
   ]
  },
  {
   "cell_type": "markdown",
   "metadata": {},
   "source": [
    "Loading data."
   ]
  },
  {
   "cell_type": "code",
   "execution_count": null,
   "metadata": {},
   "outputs": [],
   "source": [
    "print(f\"{80*'-'}\\nLoading data from files...\")\n",
    "for i, f in enumerate(data_files):\n",
    "    print(f\"\\t{i}\\t{f.name}\")\n",
    "    data = loadData(f)\n",
    "    if i == 0:\n",
    "        x, array = data[:, 0], data[:, 1]\n",
    "    else:\n",
    "        array = np.column_stack((array, data[:, 1]))\n",
    "array = np.array(array)\n",
    "print(f\"Done loading data.\\n{80*'-'}\")"
   ]
  },
  {
   "cell_type": "markdown",
   "metadata": {},
   "source": [
    "Function for making overview plot."
   ]
  },
  {
   "cell_type": "code",
   "execution_count": null,
   "metadata": {},
   "outputs": [],
   "source": [
    "def plot(x, array, plot_paths):\n",
    "    fig, ax = plt.subplots()\n",
    "    im = ax.imshow(array, \n",
    "                   aspect=\"auto\", \n",
    "                   extent=(0,\n",
    "                           array.shape[1],\n",
    "                           np.amax(x),\n",
    "                           np.amin(x),\n",
    "                           ),\n",
    "                   cmap=\"viridis\",\n",
    "                   )\n",
    "    ax.set_xlabel(r\"index\")\n",
    "    ax.set_ylabel(r\"$x$\")\n",
    "    ax.tick_params(axis=\"x\",\n",
    "                   which=\"both\",\n",
    "                   bottom=True,\n",
    "                   top=True,\n",
    "                   labeltop=True,\n",
    "                   labelbottom=False,\n",
    "                   direction=\"inout\",\n",
    "                   )\n",
    "    ax.tick_params(axis=\"y\",\n",
    "                   which=\"both\",\n",
    "                   left=True,\n",
    "                   right=True,\n",
    "                   labelleft=True,\n",
    "                   labelright=False,\n",
    "                   direction=\"inout\",\n",
    "                   )\n",
    "    ax.xaxis.set_label_position(\"top\")\n",
    "    ax.minorticks_on()\n",
    "    cb = plt.colorbar(im)\n",
    "    cb.set_label(r\"$y$\")\n",
    "    cb.ax.ticklabel_format(axis=\"y\", style=\"sci\", scilimits=(0, 0))\n",
    "    for p in plot_paths:\n",
    "        plt.savefig(p / f\"xy_overview.{p.name}\", bbox_inches=\"tight\", dpi=300)\n",
    "    plt.show()\n",
    "\n",
    "    return None"
   ]
  },
  {
   "cell_type": "markdown",
   "metadata": {},
   "source": [
    "Making plot folders."
   ]
  },
  {
   "cell_type": "code",
   "execution_count": null,
   "metadata": {},
   "outputs": [],
   "source": [
    "plot_folders = [\"png\"]\n",
    "plot_paths = [Path.cwd() / folder for folder in plot_folders]\n",
    "for p in plot_paths:\n",
    "    if not p.exists():\n",
    "        p.mkdir()"
   ]
  },
  {
   "cell_type": "markdown",
   "metadata": {},
   "source": [
    "Plotting."
   ]
  },
  {
   "cell_type": "code",
   "execution_count": null,
   "metadata": {},
   "outputs": [],
   "source": [
    "%matplotlib qt\n",
    "print(f\"{80*'-'}\\nPlotting...\")\n",
    "plot(x, array, plot_paths)\n",
    "print(f\"Done. Please see the {plot_folders} folders.\\n{80*'-'}\")"
   ]
  }
 ],
 "metadata": {
  "kernelspec": {
   "display_name": "Python 3 (ipykernel)",
   "language": "python",
   "name": "python3"
  },
  "language_info": {
   "codemirror_mode": {
    "name": "ipython",
    "version": 3
   },
   "file_extension": ".py",
   "mimetype": "text/x-python",
   "name": "python",
   "nbconvert_exporter": "python",
   "pygments_lexer": "ipython3",
   "version": "3.10.13"
  }
 },
 "nbformat": 4,
 "nbformat_minor": 4
}
