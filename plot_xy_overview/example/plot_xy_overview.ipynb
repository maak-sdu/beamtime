{
 "cells": [
  {
   "cell_type": "code",
   "execution_count": 1,
   "metadata": {},
   "outputs": [],
   "source": [
    "import sys\n",
    "from pathlib import Path\n",
    "import numpy as np\n",
    "import matplotlib.pyplot as plt\n",
    "from diffpy.utils.parsers.loaddata import loadData"
   ]
  },
  {
   "cell_type": "code",
   "execution_count": 2,
   "metadata": {},
   "outputs": [],
   "source": [
    "data_path = Path.cwd() / \"data\"\n",
    "if not data_path.exists():\n",
    "    data_path.mkdir()\n",
    "    sys.exit(f\"\\n{80*'-'}\\nA folder called '{data_path.name}' has been created.\"\n",
    "             f\"\\nPlease put your data files there and rerun the cell.\"\n",
    "             f\"\\n{80*'-'}\")\n",
    "data_files = list(data_path.glob(\"*.*\"))\n",
    "if len(data_files) == 0:\n",
    "    sys.exit(f\"\\n{80*'-'}\\nNo files were found in the '{data_path.name}' \"\n",
    "             f\"folder.\\nPlease put your data files there and rerun the cell.\"\n",
    "             f\"\\n{80*'-'}\")"
   ]
  },
  {
   "cell_type": "code",
   "execution_count": 62,
   "metadata": {},
   "outputs": [],
   "source": [
    "D_PLOT_SETTINGS = dict(figsize=(8, 6),\n",
    "                       dpi=300,\n",
    "                       fontsize=dict(labels=20, ticklabels=14),\n",
    "                       xlabel=\"index\",\n",
    "                       ylabel=r\"$x$\",\n",
    "                       cbarlabel=r\"y\",\n",
    "                       cmap=\"viridis\",\n",
    "                       )"
   ]
  },
  {
   "cell_type": "code",
   "execution_count": 63,
   "metadata": {},
   "outputs": [],
   "source": [
    "def plot(x, array, d, name, plot_paths):\n",
    "    fig, ax = plt.subplots(figsize=d[\"figsize\"])\n",
    "    im = ax.imshow(array, \n",
    "                   aspect=\"auto\", \n",
    "                   extent=(0,\n",
    "                           array.shape[1],\n",
    "                           np.amax(x),\n",
    "                           np.amin(x),\n",
    "                           ),\n",
    "                   cmap=d[\"cmap\"],\n",
    "                   )\n",
    "    ax.set_xlabel(d[\"xlabel\"], fontsize=d[\"fontsize\"][\"labels\"])\n",
    "    ax.set_ylabel(d[\"ylabel\"], fontsize=d[\"fontsize\"][\"labels\"])\n",
    "    ax.tick_params(axis=\"x\",\n",
    "                   which=\"both\",\n",
    "                   bottom=True,\n",
    "                   top=True,\n",
    "                   labeltop=True,\n",
    "                   labelbottom=False,\n",
    "                   direction=\"inout\",\n",
    "                   labelsize=d[\"fontsize\"][\"ticklabels\"],\n",
    "                   )\n",
    "    ax.tick_params(axis=\"y\",\n",
    "                   which=\"both\",\n",
    "                   left=True,\n",
    "                   right=True,\n",
    "                   labelleft=True,\n",
    "                   labelright=False,\n",
    "                   direction=\"inout\",\n",
    "                   labelsize=d[\"fontsize\"][\"ticklabels\"],\n",
    "                   )\n",
    "    ax.xaxis.set_label_position(\"top\")\n",
    "    ax.minorticks_on()\n",
    "    cb = plt.colorbar(im)\n",
    "    cb.set_label(d[\"cbarlabel\"], size=d[\"fontsize\"][\"labels\"])\n",
    "    for p in plot_paths:\n",
    "        print(f\"\\t{p.name}\")\n",
    "        plt.savefig(p / f\"{name}.{p.name}\", bbox_inches=\"tight\", dpi=d[\"dpi\"])\n",
    "    plt.show()\n",
    "\n",
    "    return None"
   ]
  },
  {
   "cell_type": "code",
   "execution_count": 64,
   "metadata": {},
   "outputs": [],
   "source": [
    "plot_folders = [\"png\",\n",
    "                # \"pdf\",\n",
    "                # \"svg\",\n",
    "                ]\n",
    "plot_paths = [Path.cwd() / folder for folder in plot_folders]\n",
    "for p in plot_paths:\n",
    "    if not p.exists():\n",
    "        p.mkdir()"
   ]
  },
  {
   "cell_type": "code",
   "execution_count": 65,
   "metadata": {},
   "outputs": [
    {
     "name": "stdout",
     "output_type": "stream",
     "text": [
      "--------------------------------------------------------------------------------\n",
      "Loading data from files...\n",
      "\t0\t00_B3_Bronze-3nm_DD155_0_115-118_sum_esd_norm.chi\n",
      "\t1\t01_B3_Bronze-3nm_DD155_1_139-142_sum_esd_norm.chi\n",
      "\t2\t02_B3_Bronze-3nm_DD155_2_163-166_sum_esd_norm.chi\n",
      "Done loading data.\n",
      "Making overview plot...\n",
      "\tpng\n"
     ]
    },
    {
     "data": {
      "image/png": "[encoded data removed]",
      "text/plain": [
       "<Figure size 800x600 with 2 Axes>"
      ]
     },
     "metadata": {},
     "output_type": "display_data"
    },
    {
     "name": "stdout",
     "output_type": "stream",
     "text": [
      "Done plotting. Please see the ['png'] folders.\n",
      "--------------------------------------------------------------------------------\n"
     ]
    }
   ],
   "source": [
    "print(f\"{80*'-'}\\nLoading data from files...\")\n",
    "for i, f in enumerate(data_files):\n",
    "    print(f\"\\t{i}\\t{f.name}\")\n",
    "    data = loadData(f)\n",
    "    if i == 0:\n",
    "        x, array = data[:, 0], data[:, 1]\n",
    "    else:\n",
    "        array = np.column_stack((array, data[:, 1]))\n",
    "array = np.array(array)\n",
    "print(f\"Done loading data.\\nMaking overview plot...\")\n",
    "plot(x, array, D_PLOT_SETTINGS, \"xy_overview\", plot_paths)\n",
    "print(f\"Done plotting. Please see the {plot_folders} folders.\\n{80*'-'}\")"
   ]
  }
 ],
 "metadata": {
  "kernelspec": {
   "display_name": "beamtime_env",
   "language": "python",
   "name": "python3"
  },
  "language_info": {
   "codemirror_mode": {
    "name": "ipython",
    "version": 3
   },
   "file_extension": ".py",
   "mimetype": "text/x-python",
   "name": "python",
   "nbconvert_exporter": "python",
   "pygments_lexer": "ipython3",
   "version": "3.10.13"
  }
 },
 "nbformat": 4,
 "nbformat_minor": 2
}
