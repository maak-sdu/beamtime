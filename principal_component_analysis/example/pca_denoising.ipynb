{
 "cells": [
  {
   "cell_type": "markdown",
   "metadata": {},
   "source": [
    "# Denoising using principal component analysis (PCA)\n",
    "\n",
    "This iPython notebook will conduct PCA to denoise data. Denoising experimental  \n",
    "data may improve visulization, when signal-to-noise ratio is low.\n",
    "\n",
    "The data are expected to contain $x$-values in the first column and the  \n",
    "$y$-values in the second column. Header as well as additional columns can be  \n",
    "handled.\n",
    "\n",
    "The data files should be names alphanumerically to be loaded in the right order.\n",
    "\n",
    "The explained variance ratio (evr) can be used to set the level of the filtering  \n",
    "for the denoising.\n",
    "\n",
    "A plot of the explained variance ratio as functions of the number of components  \n",
    "used during the PCA will be saved together with overview plots of the data,  \n",
    "the pca-reconstructed (denoised) data, and the difference between the two."
   ]
  },
  {
   "cell_type": "markdown",
   "metadata": {},
   "source": [
    "Imports."
   ]
  },
  {
   "cell_type": "code",
   "execution_count": null,
   "metadata": {},
   "outputs": [],
   "source": [
    "import sys\n",
    "from pathlib import Path\n",
    "import numpy as np\n",
    "import matplotlib.pyplot as plt\n",
    "from sklearn.decomposition import PCA\n",
    "from diffpy.utils.parsers.loaddata import loadData"
   ]
  },
  {
   "cell_type": "markdown",
   "metadata": {},
   "source": [
    "Ensuring that data files are in place."
   ]
  },
  {
   "cell_type": "code",
   "execution_count": null,
   "metadata": {},
   "outputs": [],
   "source": [
    "data_path = Path.cwd() / \"data\"\n",
    "if not data_path.exists():\n",
    "    data_path.mkdir()\n",
    "    sys.exit(f\"\\n{80*'-'}\\nA folder called '{data_path.name}' has been created.\"\n",
    "             f\"\\nPlease place your data files there and rerun the cell.\"\n",
    "             f\"\\n{80*'-'}\")\n",
    "data_files = list(data_path.glob(\"*.*\"))\n",
    "if len(data_files) == 0:\n",
    "    sys.exit(f\"\\n{80*'-'}\\nNo files were found in the '{data_path.name}' \"\n",
    "             f\"folder.\\nPlease place your data files there and rerun the cell.\"\n",
    "             f\"\\n{80*'-'}\")\n",
    "s = f\"The following files were found in the '{data_path.name}' folder:\\n\"\n",
    "for i, e in enumerate(data_files):\n",
    "    s += f\"{i}\\t{e.name}\\n\"\n",
    "print(f\"\\n{80*'-'}\\n{s}{80*'-'}\")"
   ]
  },
  {
   "cell_type": "markdown",
   "metadata": {},
   "source": [
    "Loading data from files."
   ]
  },
  {
   "cell_type": "code",
   "execution_count": null,
   "metadata": {},
   "outputs": [],
   "source": [
    "d = {}\n",
    "print(f\"\\n{80*'-'}\\nLoading data...\")\n",
    "for i, e in enumerate(data_files):\n",
    "    print(f\"\\t{i}\\t{e.name}\")\n",
    "    data = loadData(e)\n",
    "    x, y = data[:, 0], data[:, 1]\n",
    "    d[i] = dict(path=e, x=x, y=y)\n",
    "    if i == 0:\n",
    "        yarray = y\n",
    "    else:\n",
    "        yarray = np.column_stack((yarray, y))\n",
    "print(f\"Done loading data.\\n{80*'-'}\\n\"\n",
    "      f\"xmin = {np.amin(x)}, xmax = {np.amax(x)}\\n{80*'-'}\\n\"\n",
    "      f\"shape of stacked y-array: {yarray.shape}\\n{80*'-'}\")"
   ]
  },
  {
   "cell_type": "markdown",
   "metadata": {},
   "source": [
    "Function to get index of value in array."
   ]
  },
  {
   "cell_type": "code",
   "execution_count": null,
   "metadata": {},
   "outputs": [],
   "source": [
    "def get_idx(array, value):\n",
    "    for i, e in enumerate(array):\n",
    "        if e >= value:\n",
    "            break\n",
    "    \n",
    "    return i"
   ]
  },
  {
   "cell_type": "markdown",
   "metadata": {},
   "source": [
    "State minimum and maximum $x$-value to conduct analysis for."
   ]
  },
  {
   "cell_type": "code",
   "execution_count": null,
   "metadata": {},
   "outputs": [],
   "source": [
    "xmin, xmax = 1, 30"
   ]
  },
  {
   "cell_type": "markdown",
   "metadata": {},
   "source": [
    "Shaping $y$-array to conduct pca for."
   ]
  },
  {
   "cell_type": "code",
   "execution_count": null,
   "metadata": {},
   "outputs": [],
   "source": [
    "idx_min, idx_max = get_idx(x, xmin), get_idx(x, xmax)\n",
    "X = yarray[idx_min:idx_max, :].T\n",
    "print(f\"\\n{80*'-'}\\nshape of X (shaped yarray): {X.shape}\\n{80*'-'}\")"
   ]
  },
  {
   "cell_type": "markdown",
   "metadata": {},
   "source": [
    "Plot function to plot explained variance ratio."
   ]
  },
  {
   "cell_type": "code",
   "execution_count": null,
   "metadata": {},
   "outputs": [],
   "source": [
    "def plot_evr(evr, plot_paths):\n",
    "    x = np.arange(1, len(evr) + 1)\n",
    "    xmin, xmax = np.amin(x), np.amax(x)\n",
    "    xrange = xmax - xmin\n",
    "    colors = plt.rcParams[\"axes.prop_cycle\"].by_key()[\"color\"]\n",
    "    fig, axs = plt.subplots(figsize=(14, 6), ncols=2)\n",
    "    axs[0].plot(x, evr, \"-o\", c=colors[0])\n",
    "    axs[0].set_ylabel(r\"evr\", fontsize=20)\n",
    "    axs[1].plot(x, np.cumsum(evr), \"-o\", c=colors[1], label=\"cumulated\")\n",
    "    axs[1].legend(framealpha=0, fontsize=14)\n",
    "    for ax in axs:\n",
    "        ax.tick_params(axis=\"both\", which=\"both\", labelsize=14)\n",
    "        ax.set_xlim(xmin - 0.01 * xrange, xmax + 0.01 * xrange)\n",
    "        ax.minorticks_on()\n",
    "    fig.supxlabel(r\"$n$\", fontsize=20)\n",
    "    for p in plot_paths:\n",
    "        plt.savefig(p / f\"evr.{p.name}\", bbox_inches=\"tight\", dpi=300)\n",
    "    plt.show()\n",
    "\n",
    "    return None"
   ]
  },
  {
   "cell_type": "markdown",
   "metadata": {},
   "source": [
    "Plotting explained variance ratio as a function of the number of components."
   ]
  },
  {
   "cell_type": "code",
   "execution_count": null,
   "metadata": {},
   "outputs": [],
   "source": [
    "pca = PCA(n_components=10)\n",
    "pca.fit(X)\n",
    "plot_folders = [\"png\"]\n",
    "plot_paths = [Path.cwd() / folder for folder in plot_folders]\n",
    "for p in plot_paths:\n",
    "    if not p.exists():\n",
    "        p.mkdir()\n",
    "print(f\"\\n{80*'-'}\\nExplained variance ratio as a function of number of \"\n",
    "      f\"components:\")\n",
    "plot_evr(pca.explained_variance_ratio_, plot_paths)\n",
    "print(f\"{80*'-'}\")"
   ]
  },
  {
   "cell_type": "markdown",
   "metadata": {},
   "source": [
    "Function definition to denoise using pca."
   ]
  },
  {
   "cell_type": "code",
   "execution_count": null,
   "metadata": {},
   "outputs": [],
   "source": [
    "def pca_denoising(X, n):\n",
    "    pca_filter = PCA(n)\n",
    "    pca_filter.fit(X)\n",
    "    X_transform = pca_filter.transform(X)\n",
    "    X_inverse_transform = pca_filter.inverse_transform(X_transform)\n",
    "    d = dict(transform=X_transform,\n",
    "             inverse_transform=X_inverse_transform,\n",
    "             evr=pca_filter.explained_variance_ratio_,\n",
    "             )\n",
    "\n",
    "    return d"
   ]
  },
  {
   "cell_type": "markdown",
   "metadata": {},
   "source": [
    "Number of components to user for pca."
   ]
  },
  {
   "cell_type": "code",
   "execution_count": null,
   "metadata": {},
   "outputs": [],
   "source": [
    "n = 4"
   ]
  },
  {
   "cell_type": "markdown",
   "metadata": {},
   "source": [
    "Denoising using pca."
   ]
  },
  {
   "cell_type": "code",
   "execution_count": null,
   "metadata": {},
   "outputs": [],
   "source": [
    "d_pca = pca_denoising(X, n)\n",
    "print(f\"{80*'-'}\\nnumber of components: {n}\\n\"\n",
    "      f\"cumulated explained variance ratio: {np.sum(d_pca['evr'])}\\n\"\n",
    "      f\"transform shape: {d_pca['transform'].shape}\\n\"\n",
    "      f\"inverse transform shape: {d_pca['inverse_transform'].shape}\\n{80*'-'}\")"
   ]
  },
  {
   "cell_type": "markdown",
   "metadata": {},
   "source": [
    "Plot function for overview plot."
   ]
  },
  {
   "cell_type": "code",
   "execution_count": null,
   "metadata": {},
   "outputs": [],
   "source": [
    "def plot_overview(X, xmin, xmax, cmap, name, plot_paths):\n",
    "    fig, ax = plt.subplots(figsize=(12, 8))\n",
    "    im = ax.imshow(X.T, \n",
    "                   aspect=\"auto\", \n",
    "                   cmap=\"seismic\",\n",
    "                   extent=(0, X.T.shape[1], xmax, xmin),\n",
    "                   interpolation=\"None\",\n",
    "                   )\n",
    "    ax.xaxis.set_label_position(\"top\")\n",
    "    ax.set_xlabel(\"index\", fontsize=20)\n",
    "    ax.set_ylabel(r\"$x$\", fontsize=20)\n",
    "    ax.tick_params(axis=\"x\",\n",
    "                   which=\"both\",\n",
    "                   bottom=True, \n",
    "                   top=True, \n",
    "                   labelbottom=False, \n",
    "                   labeltop=True,\n",
    "                   direction=\"in\",\n",
    "                   labelsize=14,\n",
    "                   )\n",
    "    ax.tick_params(axis=\"y\",\n",
    "                   which=\"both\",\n",
    "                   left=True,\n",
    "                   right=True,\n",
    "                   labelleft=True,\n",
    "                   labelright=False,\n",
    "                   direction=\"in\",\n",
    "                   labelsize=14,\n",
    "                   )\n",
    "    cbar = plt.colorbar(im)\n",
    "    cbar.set_label(r\"$y$\")\n",
    "    ax.minorticks_on()\n",
    "    for p in plot_paths:\n",
    "        plt.savefig(p / f\"overview_{name}.{p.name}\", \n",
    "                    bbox_inches=\"tight\", \n",
    "                    dpi=300,\n",
    "                    )\n",
    "    plt.show()\n",
    "\n",
    "    return None"
   ]
  },
  {
   "cell_type": "markdown",
   "metadata": {},
   "source": [
    "Colormap to use for overview plots."
   ]
  },
  {
   "cell_type": "code",
   "execution_count": null,
   "metadata": {},
   "outputs": [],
   "source": [
    "# cmap = \"viridis\"\n",
    "cmap = \"seismic\""
   ]
  },
  {
   "cell_type": "markdown",
   "metadata": {},
   "source": [
    "Plotting data, pca-reconstructed data, and difference."
   ]
  },
  {
   "cell_type": "code",
   "execution_count": null,
   "metadata": {},
   "outputs": [],
   "source": [
    "print(f\"\\n{80*'-'}\\ndata:\")\n",
    "plot_overview(X, xmin, xmax, cmap, \"data\", plot_paths)\n",
    "print(f\"pca-reconstructed data:\")\n",
    "plot_overview(d_pca[\"inverse_transform\"], xmin, xmax, cmap, \"pca-recon\", plot_paths)\n",
    "print(f\"difference:\")\n",
    "plot_overview(X - d_pca[\"inverse_transform\"], xmin, xmax, cmap, \"diff\", plot_paths)\n",
    "print(f\"Done.\\n{80*'-'}\")"
   ]
  },
  {
   "cell_type": "code",
   "execution_count": null,
   "metadata": {},
   "outputs": [],
   "source": [
    "x_shaped = x[idx_min:idx_max]\n",
    "data_pcarecon_path = Path.cwd() / \"data_pca-recon\"\n",
    "if not data_pcarecon_path.exists():\n",
    "    data_pcarecon_path.mkdir()\n",
    "print(f\"\\n{80*'-'}\\nwriting pca-reconstrucred data to files...\")\n",
    "for i, k in enumerate(d.keys()):\n",
    "    name = f\"{d[k]['path'].stem}_pca-recon{d[k]['path'].suffix}\"\n",
    "    print(f\"\\t{name}\")\n",
    "    np.savetxt(data_pcarecon_path / name,\n",
    "               np.column_stack((x_shaped, d_pca[\"inverse_transform\"][i, :])),\n",
    "               delimiter=\"\\t\",\n",
    "               encoding=\"utf8\",\n",
    "               )\n",
    "print(f\"Done. Please see the '{data_pcarecon_path.name}' folder.\\n{80*'-'}\")"
   ]
  }
 ],
 "metadata": {
  "kernelspec": {
   "display_name": "py312",
   "language": "python",
   "name": "python3"
  },
  "language_info": {
   "codemirror_mode": {
    "name": "ipython",
    "version": 3
   },
   "file_extension": ".py",
   "mimetype": "text/x-python",
   "name": "python",
   "nbconvert_exporter": "python",
   "pygments_lexer": "ipython3",
   "version": "3.12.1"
  }
 },
 "nbformat": 4,
 "nbformat_minor": 2
}
