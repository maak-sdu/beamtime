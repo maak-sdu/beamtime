{
 "cells": [
  {
   "cell_type": "markdown",
   "metadata": {},
   "source": [
    "Imports."
   ]
  },
  {
   "cell_type": "code",
   "execution_count": 17,
   "metadata": {},
   "outputs": [],
   "source": [
    "import sys\n",
    "from pathlib import Path\n",
    "import numpy as np\n",
    "import matplotlib.pyplot as plt\n",
    "from sklearn.decomposition import NMF\n",
    "from diffpy.utils.parsers.loaddata import loadData"
   ]
  },
  {
   "cell_type": "markdown",
   "metadata": {},
   "source": [
    "Ensuring that data files are in place."
   ]
  },
  {
   "cell_type": "code",
   "execution_count": 18,
   "metadata": {},
   "outputs": [
    {
     "name": "stdout",
     "output_type": "stream",
     "text": [
      "\n",
      "--------------------------------------------------------------------------------\n",
      "The following files were found in the 'data' folder:\n",
      "0\t00_B3_Bronze-3nm_DD155_0_115-118_sum_esd_norm.gr\n",
      "1\t01_B3_Bronze-3nm_DD155_1_139-142_sum_esd_norm.gr\n",
      "2\t02_B3_Bronze-3nm_DD155_2_163-166_sum_esd_norm.gr\n",
      "3\t03_B3_Bronze-3nm_DD155_3_187-190_sum_esd_norm.gr\n",
      "4\t04_B3_Bronze-3nm_DD155_4_211-214_sum_esd_norm.gr\n",
      "5\t05_B3_Bronze-3nm_DD155_5_235-238_sum_esd_norm.gr\n",
      "6\t06_B3_Bronze-3nm_DD155_6_259-262_sum_esd_norm.gr\n",
      "7\t07_B3_Bronze-3nm_DD155_7_283-286_sum_esd_norm.gr\n",
      "8\t08_B3_Bronze-3nm_DD155_8_307-310_sum_esd_norm.gr\n",
      "9\t09_B3_Bronze-3nm_DD155_9_331-334_sum_esd_norm.gr\n",
      "10\t10_B3_Bronze-3nm_DD155_10_355-358_sum_esd_norm.gr\n",
      "11\t11_B3_Bronze-3nm_DD155_11_379-382_sum_esd_norm.gr\n",
      "12\t12_B3_Bronze-3nm_DD155_12_403-406_sum_esd_norm.gr\n",
      "13\t13_B3_Bronze-3nm_DD155_13_427-430_sum_esd_norm.gr\n",
      "14\t14_B3_Bronze-3nm_DD155_14_451-454_sum_esd_norm.gr\n",
      "15\t15_B3_Bronze-3nm_DD155_15_475-478_sum_esd_norm.gr\n",
      "16\t16_B3_Bronze-3nm_DD155_16_499-502_sum_esd_norm.gr\n",
      "17\t17_B3_Bronze-3nm_DD155_17_523-526_sum_esd_norm.gr\n",
      "18\t18_B3_Bronze-3nm_DD155_18_547-550_sum_esd_norm.gr\n",
      "19\t19_B3_Bronze-3nm_DD155_19_571-574_sum_esd_norm.gr\n",
      "20\t20_B3_Bronze-3nm_DD155_20_595-598_sum_esd_norm.gr\n",
      "21\t21_B3_Bronze-3nm_DD155_21_619-622_sum_esd_norm.gr\n",
      "22\t22_B3_Bronze-3nm_DD155_22_643-646_sum_esd_norm.gr\n",
      "23\t23_B3_Bronze-3nm_DD155_23_667-670_sum_esd_norm.gr\n",
      "24\t24_B3_Bronze-3nm_DD155_24_691-694_sum_esd_norm.gr\n",
      "25\t25_B3_Bronze-3nm_DD155_25_715-718_sum_esd_norm.gr\n",
      "26\t26_B3_Bronze-3nm_DD155_26_739-742_sum_esd_norm.gr\n",
      "27\t27_B3_Bronze-3nm_DD155_27_763-766_sum_esd_norm.gr\n",
      "28\t28_B3_Bronze-3nm_DD155_28_787-790_sum_esd_norm.gr\n",
      "29\t29_B3_Bronze-3nm_DD155_29_811-814_sum_esd_norm.gr\n",
      "30\t32_B3_Bronze-3nm_DD155_0_843-846_sum_esd_norm.gr\n",
      "31\t33_B3_Bronze-3nm_DD155_1_867-870_sum_esd_norm.gr\n",
      "32\t34_B3_Bronze-3nm_DD155_2_891-894_sum_esd_norm.gr\n",
      "33\t35_B3_Bronze-3nm_DD155_3_915-918_sum_esd_norm.gr\n",
      "34\t36_B3_Bronze-3nm_DD155_4_939-942_sum_esd_norm.gr\n",
      "35\t37_B3_Bronze-3nm_DD155_5_963-966_sum_esd_norm.gr\n",
      "36\t38_B3_Bronze-3nm_DD155_6_987_sum_esd_norm.gr\n",
      "37\t39_B3_Bronze-3nm_DD155_7_1011-1014_sum_esd_norm.gr\n",
      "38\t40_B3_Bronze-3nm_DD155_8_1035-1038_sum_esd_norm.gr\n",
      "39\t41_B3_Bronze-3nm_DD155_9_1059-1062_sum_esd_norm.gr\n",
      "40\t42_B3_Bronze-3nm_DD155_10_1083-1086_sum_esd_norm.gr\n",
      "--------------------------------------------------------------------------------\n"
     ]
    }
   ],
   "source": [
    "data_path = Path.cwd() / \"data\"\n",
    "if not data_path.exists():\n",
    "    data_path.mkdir()\n",
    "    sys.exit(f\"\\n{80*'-'}\\nA folder called '{data_path.name}' has been created.\"\n",
    "             f\"\\nPlease place your data files there and rerun the cell.\"\n",
    "             f\"\\n{80*'-'}\")\n",
    "data_files = list(data_path.glob(\"*.*\"))\n",
    "if len(data_files) == 0:\n",
    "    sys.exit(f\"\\n{80*'-'}\\nNo files were found in the '{data_path.name}' \"\n",
    "             f\"folder.\\nPlease place your data files there and rerun the cell.\"\n",
    "             f\"\\n{80*'-'}\")\n",
    "s = f\"The following files were found in the '{data_path.name}' folder:\\n\"\n",
    "for i, e in enumerate(data_files):\n",
    "    s += f\"{i}\\t{e.name}\\n\"\n",
    "print(f\"\\n{80*'-'}\\n{s}{80*'-'}\")"
   ]
  },
  {
   "cell_type": "markdown",
   "metadata": {},
   "source": [
    "Loading data from files."
   ]
  },
  {
   "cell_type": "code",
   "execution_count": 19,
   "metadata": {},
   "outputs": [
    {
     "name": "stdout",
     "output_type": "stream",
     "text": [
      "\n",
      "--------------------------------------------------------------------------------\n",
      "Loading data...\n",
      "\t0\t00_B3_Bronze-3nm_DD155_0_115-118_sum_esd_norm.gr\n",
      "\t1\t01_B3_Bronze-3nm_DD155_1_139-142_sum_esd_norm.gr\n",
      "\t2\t02_B3_Bronze-3nm_DD155_2_163-166_sum_esd_norm.gr\n",
      "\t3\t03_B3_Bronze-3nm_DD155_3_187-190_sum_esd_norm.gr\n",
      "\t4\t04_B3_Bronze-3nm_DD155_4_211-214_sum_esd_norm.gr\n",
      "\t5\t05_B3_Bronze-3nm_DD155_5_235-238_sum_esd_norm.gr\n",
      "\t6\t06_B3_Bronze-3nm_DD155_6_259-262_sum_esd_norm.gr\n",
      "\t7\t07_B3_Bronze-3nm_DD155_7_283-286_sum_esd_norm.gr\n",
      "\t8\t08_B3_Bronze-3nm_DD155_8_307-310_sum_esd_norm.gr\n",
      "\t9\t09_B3_Bronze-3nm_DD155_9_331-334_sum_esd_norm.gr\n",
      "\t10\t10_B3_Bronze-3nm_DD155_10_355-358_sum_esd_norm.gr\n",
      "\t11\t11_B3_Bronze-3nm_DD155_11_379-382_sum_esd_norm.gr\n",
      "\t12\t12_B3_Bronze-3nm_DD155_12_403-406_sum_esd_norm.gr\n",
      "\t13\t13_B3_Bronze-3nm_DD155_13_427-430_sum_esd_norm.gr\n",
      "\t14\t14_B3_Bronze-3nm_DD155_14_451-454_sum_esd_norm.gr\n",
      "\t15\t15_B3_Bronze-3nm_DD155_15_475-478_sum_esd_norm.gr\n",
      "\t16\t16_B3_Bronze-3nm_DD155_16_499-502_sum_esd_norm.gr\n",
      "\t17\t17_B3_Bronze-3nm_DD155_17_523-526_sum_esd_norm.gr\n",
      "\t18\t18_B3_Bronze-3nm_DD155_18_547-550_sum_esd_norm.gr\n",
      "\t19\t19_B3_Bronze-3nm_DD155_19_571-574_sum_esd_norm.gr\n",
      "\t20\t20_B3_Bronze-3nm_DD155_20_595-598_sum_esd_norm.gr\n",
      "\t21\t21_B3_Bronze-3nm_DD155_21_619-622_sum_esd_norm.gr\n",
      "\t22\t22_B3_Bronze-3nm_DD155_22_643-646_sum_esd_norm.gr\n",
      "\t23\t23_B3_Bronze-3nm_DD155_23_667-670_sum_esd_norm.gr\n",
      "\t24\t24_B3_Bronze-3nm_DD155_24_691-694_sum_esd_norm.gr\n",
      "\t25\t25_B3_Bronze-3nm_DD155_25_715-718_sum_esd_norm.gr\n",
      "\t26\t26_B3_Bronze-3nm_DD155_26_739-742_sum_esd_norm.gr\n",
      "\t27\t27_B3_Bronze-3nm_DD155_27_763-766_sum_esd_norm.gr\n",
      "\t28\t28_B3_Bronze-3nm_DD155_28_787-790_sum_esd_norm.gr\n",
      "\t29\t29_B3_Bronze-3nm_DD155_29_811-814_sum_esd_norm.gr\n",
      "\t30\t32_B3_Bronze-3nm_DD155_0_843-846_sum_esd_norm.gr\n",
      "\t31\t33_B3_Bronze-3nm_DD155_1_867-870_sum_esd_norm.gr\n",
      "\t32\t34_B3_Bronze-3nm_DD155_2_891-894_sum_esd_norm.gr\n",
      "\t33\t35_B3_Bronze-3nm_DD155_3_915-918_sum_esd_norm.gr\n",
      "\t34\t36_B3_Bronze-3nm_DD155_4_939-942_sum_esd_norm.gr\n",
      "\t35\t37_B3_Bronze-3nm_DD155_5_963-966_sum_esd_norm.gr\n",
      "\t36\t38_B3_Bronze-3nm_DD155_6_987_sum_esd_norm.gr\n",
      "\t37\t39_B3_Bronze-3nm_DD155_7_1011-1014_sum_esd_norm.gr\n",
      "\t38\t40_B3_Bronze-3nm_DD155_8_1035-1038_sum_esd_norm.gr\n",
      "\t39\t41_B3_Bronze-3nm_DD155_9_1059-1062_sum_esd_norm.gr\n",
      "\t40\t42_B3_Bronze-3nm_DD155_10_1083-1086_sum_esd_norm.gr\n",
      "Done loading data.\n",
      "--------------------------------------------------------------------------------\n",
      "xmin = 0.0, xmax = 50.0\n",
      "--------------------------------------------------------------------------------\n",
      "shape of stacked y-array: (5001, 41)\n",
      "--------------------------------------------------------------------------------\n"
     ]
    }
   ],
   "source": [
    "d = {}\n",
    "print(f\"\\n{80*'-'}\\nLoading data...\")\n",
    "for i, e in enumerate(data_files):\n",
    "    print(f\"\\t{i}\\t{e.name}\")\n",
    "    data = loadData(e)\n",
    "    x, y = data[:, 0], data[:, 1]\n",
    "    d[i] = dict(path=e, x=x, y=y)\n",
    "    if i == 0:\n",
    "        yarray = y\n",
    "    else:\n",
    "        yarray = np.column_stack((yarray, y))\n",
    "print(f\"Done loading data.\\n{80*'-'}\\n\"\n",
    "      f\"xmin = {np.amin(x)}, xmax = {np.amax(x)}\\n{80*'-'}\\n\"\n",
    "      f\"shape of stacked y-array: {yarray.shape}\\n{80*'-'}\")"
   ]
  },
  {
   "cell_type": "markdown",
   "metadata": {},
   "source": [
    "Function to get index of value in array."
   ]
  },
  {
   "cell_type": "code",
   "execution_count": 20,
   "metadata": {},
   "outputs": [],
   "source": [
    "def get_idx(array, value):\n",
    "    for i, e in enumerate(array):\n",
    "        if e >= value:\n",
    "            break\n",
    "    \n",
    "    return i"
   ]
  },
  {
   "cell_type": "markdown",
   "metadata": {},
   "source": [
    "State minimum and maximum $x$-value to conduct analysis for."
   ]
  },
  {
   "cell_type": "code",
   "execution_count": 21,
   "metadata": {},
   "outputs": [],
   "source": [
    "xmin, xmax = 1, 30"
   ]
  },
  {
   "cell_type": "markdown",
   "metadata": {},
   "source": [
    "Shaping $y$-array to conduct pca for."
   ]
  },
  {
   "cell_type": "code",
   "execution_count": 22,
   "metadata": {},
   "outputs": [
    {
     "name": "stdout",
     "output_type": "stream",
     "text": [
      "\n",
      "--------------------------------------------------------------------------------\n",
      "shape of X (shaped yarray): (41, 2900)\n",
      "--------------------------------------------------------------------------------\n"
     ]
    }
   ],
   "source": [
    "idx_min, idx_max = get_idx(x, xmin), get_idx(x, xmax)\n",
    "X = yarray[idx_min:idx_max, :].T\n",
    "print(f\"\\n{80*'-'}\\nshape of X (shaped yarray): {X.shape}\\n{80*'-'}\")"
   ]
  },
  {
   "cell_type": "markdown",
   "metadata": {},
   "source": [
    "Plot function to plot reconstruction error."
   ]
  },
  {
   "cell_type": "code",
   "execution_count": 23,
   "metadata": {},
   "outputs": [],
   "source": [
    "def plot_evr(re, plot_paths):\n",
    "    x = np.arange(1, len(re) + 1)\n",
    "    xmin, xmax = np.amin(x), np.amax(x)\n",
    "    xrange = xmax - xmin\n",
    "    colors = plt.rcParams[\"axes.prop_cycle\"].by_key()[\"color\"]\n",
    "    fig, ax = plt.subplots(figsize=(12, 4))\n",
    "    ax.plot(x, re, \"-o\", c=colors[0])\n",
    "    ax.set_xlabel(r\"$n$\", fontsize=20)\n",
    "    ax.set_ylabel(r\"$re$\", fontsize=20)\n",
    "    ax.tick_params(axis=\"both\", which=\"both\", labelsize=14)\n",
    "    ax.set_xlim(xmin - 0.01 * xrange, xmax + 0.01 * xrange)\n",
    "    ax.minorticks_on()\n",
    "    \n",
    "    for p in plot_paths:\n",
    "        plt.savefig(p / f\"re.{p.name}\", bbox_inches=\"tight\", dpi=300)\n",
    "    plt.show()\n",
    "\n",
    "    return None"
   ]
  },
  {
   "cell_type": "markdown",
   "metadata": {},
   "source": [
    "Conducting nmf analysis for range of components."
   ]
  },
  {
   "cell_type": "code",
   "execution_count": 24,
   "metadata": {},
   "outputs": [
    {
     "name": "stdout",
     "output_type": "stream",
     "text": [
      "\n",
      "--------------------------------------------------------------------------------\n",
      "Conducting nmf analysis for range of components...\n",
      "\t1\n"
     ]
    },
    {
     "name": "stderr",
     "output_type": "stream",
     "text": [
      "c:\\Users\\aaskovka\\AppData\\Local\\miniconda3\\envs\\beamtime_env\\Lib\\site-packages\\sklearn\\decomposition\\_nmf.py:1770: ConvergenceWarning: Maximum number of iterations 1000 reached. Increase it to improve convergence.\n",
      "  warnings.warn(\n"
     ]
    },
    {
     "name": "stdout",
     "output_type": "stream",
     "text": [
      "\t2\n"
     ]
    },
    {
     "name": "stderr",
     "output_type": "stream",
     "text": [
      "c:\\Users\\aaskovka\\AppData\\Local\\miniconda3\\envs\\beamtime_env\\Lib\\site-packages\\sklearn\\decomposition\\_nmf.py:1770: ConvergenceWarning: Maximum number of iterations 1000 reached. Increase it to improve convergence.\n",
      "  warnings.warn(\n"
     ]
    },
    {
     "name": "stdout",
     "output_type": "stream",
     "text": [
      "\t3\n"
     ]
    },
    {
     "name": "stderr",
     "output_type": "stream",
     "text": [
      "c:\\Users\\aaskovka\\AppData\\Local\\miniconda3\\envs\\beamtime_env\\Lib\\site-packages\\sklearn\\decomposition\\_nmf.py:1770: ConvergenceWarning: Maximum number of iterations 1000 reached. Increase it to improve convergence.\n",
      "  warnings.warn(\n"
     ]
    },
    {
     "name": "stdout",
     "output_type": "stream",
     "text": [
      "\t4\n"
     ]
    },
    {
     "name": "stderr",
     "output_type": "stream",
     "text": [
      "c:\\Users\\aaskovka\\AppData\\Local\\miniconda3\\envs\\beamtime_env\\Lib\\site-packages\\sklearn\\decomposition\\_nmf.py:1770: ConvergenceWarning: Maximum number of iterations 1000 reached. Increase it to improve convergence.\n",
      "  warnings.warn(\n"
     ]
    },
    {
     "name": "stdout",
     "output_type": "stream",
     "text": [
      "\t5\n"
     ]
    },
    {
     "name": "stderr",
     "output_type": "stream",
     "text": [
      "c:\\Users\\aaskovka\\AppData\\Local\\miniconda3\\envs\\beamtime_env\\Lib\\site-packages\\sklearn\\decomposition\\_nmf.py:1770: ConvergenceWarning: Maximum number of iterations 1000 reached. Increase it to improve convergence.\n",
      "  warnings.warn(\n"
     ]
    },
    {
     "name": "stdout",
     "output_type": "stream",
     "text": [
      "\t6\n"
     ]
    },
    {
     "name": "stderr",
     "output_type": "stream",
     "text": [
      "c:\\Users\\aaskovka\\AppData\\Local\\miniconda3\\envs\\beamtime_env\\Lib\\site-packages\\sklearn\\decomposition\\_nmf.py:1770: ConvergenceWarning: Maximum number of iterations 1000 reached. Increase it to improve convergence.\n",
      "  warnings.warn(\n"
     ]
    },
    {
     "name": "stdout",
     "output_type": "stream",
     "text": [
      "\t7\n"
     ]
    },
    {
     "name": "stderr",
     "output_type": "stream",
     "text": [
      "c:\\Users\\aaskovka\\AppData\\Local\\miniconda3\\envs\\beamtime_env\\Lib\\site-packages\\sklearn\\decomposition\\_nmf.py:1770: ConvergenceWarning: Maximum number of iterations 1000 reached. Increase it to improve convergence.\n",
      "  warnings.warn(\n"
     ]
    },
    {
     "name": "stdout",
     "output_type": "stream",
     "text": [
      "\t8\n"
     ]
    },
    {
     "name": "stderr",
     "output_type": "stream",
     "text": [
      "c:\\Users\\aaskovka\\AppData\\Local\\miniconda3\\envs\\beamtime_env\\Lib\\site-packages\\sklearn\\decomposition\\_nmf.py:1770: ConvergenceWarning: Maximum number of iterations 1000 reached. Increase it to improve convergence.\n",
      "  warnings.warn(\n"
     ]
    },
    {
     "name": "stdout",
     "output_type": "stream",
     "text": [
      "\t9\n"
     ]
    },
    {
     "name": "stderr",
     "output_type": "stream",
     "text": [
      "c:\\Users\\aaskovka\\AppData\\Local\\miniconda3\\envs\\beamtime_env\\Lib\\site-packages\\sklearn\\decomposition\\_nmf.py:1770: ConvergenceWarning: Maximum number of iterations 1000 reached. Increase it to improve convergence.\n",
      "  warnings.warn(\n"
     ]
    },
    {
     "name": "stdout",
     "output_type": "stream",
     "text": [
      "\t10\n"
     ]
    }
   ],
   "source": [
    "n = np.arange(1, 11)\n",
    "re = []\n",
    "offset = np.amin(X)\n",
    "if offset < 0:\n",
    "    X = X - offset\n",
    "print(f\"\\n{80*'-'}\\nConducting nmf analysis for range of components...\")\n",
    "for i in n:\n",
    "    print(f\"\\t{i}\")\n",
    "    nmf = NMF(n_components=i, init=\"nndsvdar\", max_iter=10**3)\n",
    "    nmf.fit(X.T)\n",
    "    re.append(nmf.reconstruction_err_)\n",
    "print(f\"Done.\\n{80*'-'}\")"
   ]
  },
  {
   "cell_type": "markdown",
   "metadata": {},
   "source": [
    "Plotting reconstruction error as a function of the number of components."
   ]
  },
  {
   "cell_type": "code",
   "execution_count": 26,
   "metadata": {},
   "outputs": [
    {
     "name": "stdout",
     "output_type": "stream",
     "text": [
      "\n",
      "--------------------------------------------------------------------------------\n",
      "Explained variance ratio as a function of number of components:\n"
     ]
    },
    {
     "data": {
      "image/png": "[encoded data removed]",
      "text/plain": [
       "<Figure size 1200x400 with 1 Axes>"
      ]
     },
     "metadata": {},
     "output_type": "display_data"
    },
    {
     "name": "stdout",
     "output_type": "stream",
     "text": [
      "--------------------------------------------------------------------------------\n"
     ]
    }
   ],
   "source": [
    "plot_folders = [\"png\"]\n",
    "plot_paths = [Path.cwd() / folder for folder in plot_folders]\n",
    "for p in plot_paths:\n",
    "    if not p.exists():\n",
    "        p.mkdir()\n",
    "print(f\"\\n{80*'-'}\\nExplained variance ratio as a function of number of \"\n",
    "      f\"components:\")\n",
    "plot_evr(re, plot_paths)\n",
    "print(f\"{80*'-'}\")"
   ]
  }
 ],
 "metadata": {
  "kernelspec": {
   "display_name": "beamtime_env",
   "language": "python",
   "name": "python3"
  },
  "language_info": {
   "codemirror_mode": {
    "name": "ipython",
    "version": 3
   },
   "file_extension": ".py",
   "mimetype": "text/x-python",
   "name": "python",
   "nbconvert_exporter": "python",
   "pygments_lexer": "ipython3",
   "version": "3.11.8"
  }
 },
 "nbformat": 4,
 "nbformat_minor": 2
}
