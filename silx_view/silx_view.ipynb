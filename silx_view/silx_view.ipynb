{
 "cells": [
  {
   "cell_type": "markdown",
   "metadata": {},
   "source": [
    "# silx view\n",
    "The cell below will call the `silx view` gui (grahical user interface), which is  \n",
    "a great tool for data visualization and inspection of, e.g., .tif and .h5 files.\n",
    "\n",
    "For more info on silx:\n",
    "- https://github.com/silx-kit/silx\n",
    "- https://www.silx.org/doc/silx/latest/"
   ]
  },
  {
   "cell_type": "code",
   "execution_count": 1,
   "metadata": {},
   "outputs": [],
   "source": [
    "! silx view"
   ]
  }
 ],
 "metadata": {
  "kernelspec": {
   "display_name": "py312",
   "language": "python",
   "name": "python3"
  },
  "language_info": {
   "codemirror_mode": {
    "name": "ipython",
    "version": 3
   },
   "file_extension": ".py",
   "mimetype": "text/x-python",
   "name": "python",
   "nbconvert_exporter": "python",
   "pygments_lexer": "ipython3",
   "version": "3.10.13"
  }
 },
 "nbformat": 4,
 "nbformat_minor": 2
}
